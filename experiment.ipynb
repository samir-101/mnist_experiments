{
 "cells": [
  {
   "cell_type": "code",
   "execution_count": 1,
   "id": "ed29983c",
   "metadata": {},
   "outputs": [],
   "source": [
    "import torch.nn as nn\n",
    "import torch\n",
    "import torch.nn.functional as F\n",
    "import pandas as pd\n",
    "import numpy as np\n",
    "import cv2\n",
    "from IPython.display import display\n",
    "import matplotlib.pyplot as plt\n",
    "import PIL.Image as Image\n",
    "\n",
    "TRAIN_PATH = '/home/meheraj/Develop/mnist/data/train.csv'\n",
    "TEST_PATH = '/home/meheraj/Develop/mnist/data/test.csv'\n",
    "\n",
    "train_df = pd.read_csv(TRAIN_PATH)\n",
    "val_df = pd.read_csv(TEST_PATH)"
   ]
  },
  {
   "cell_type": "code",
   "execution_count": 2,
   "id": "da48f888",
   "metadata": {},
   "outputs": [],
   "source": [
    "train_data = []\n",
    "for i in range(train_df.shape[0]):\n",
    "    img = train_df.loc[i].values[1:].reshape(28, 28).astype(np.uint8)\n",
    "    label = train_df.loc[i].values[0]\n",
    "    train_data.append([img, label])\n",
    "\n",
    "val_data = []\n",
    "for i in range(val_df.shape[0]):\n",
    "    img = val_df.loc[i].values[:].reshape(28, 28).astype(np.uint8)\n",
    "    val_data.append([img, label])\n",
    "# img = train_df.loc[14].values[1:].reshape(28, 28).astype(np.uint8)\n"
   ]
  },
  {
   "cell_type": "code",
   "execution_count": 9,
   "id": "7ba0b5e6",
   "metadata": {},
   "outputs": [],
   "source": [
    "class simpleNN(nn.Module):\n",
    "    def __init__(self):\n",
    "        super(simpleNN, self).__init__()\n",
    "        self.conv1 = nn.Conv2d(1, 32, kernel_size=3, stride=1, padding=1)\n",
    "        self.pool1 = nn.MaxPool2d(kernel_size=2, stride=2, padding=0)\n",
    "        self.conv2 = nn.Conv2d(32, 64, kernel_size=3, stride=1, padding=1)\n",
    "        self.pool2 = nn.MaxPool2d(kernel_size=2, stride=2, padding=0)\n",
    "\n",
    "        self.fc1 = nn.Linear(64 * 7 * 7, 784)\n",
    "        self.fc2 = nn.Linear(784, 98)\n",
    "        self.fc3 = nn.Linear(98, 10)\n",
    "        self.dropout = nn.Dropout(0.2)\n",
    "        self.softmax = nn.Softmax(dim=1)\n",
    "\n",
    "    def forward(self, x):\n",
    "        # x = x.view(-1, 28*28)\n",
    "        x = x.unsqueeze(1)  # Add channel dimension\n",
    "        x = self.pool1(F.relu(self.conv1(x)))\n",
    "        x = self.pool2(F.relu(self.conv2(x)))\n",
    "        x = x.view(-1, 64 * 7 * 7)\n",
    "        x = F.relu(self.fc1(x))\n",
    "        x = F.relu(self.fc2(x))\n",
    "        x = self.fc3(x)\n",
    "        x = self.dropout(x)\n",
    "        x = self.softmax(x)\n",
    "        return x"
   ]
  },
  {
   "cell_type": "code",
   "execution_count": null,
   "id": "52543929",
   "metadata": {},
   "outputs": [
    {
     "name": "stdout",
     "output_type": "stream",
     "text": [
      "Epoch 1/30, Loss: 2.395749807357788\n",
      "Epoch 2/30, Loss: 2.336150646209717\n",
      "Epoch 3/30, Loss: 2.336150646209717\n",
      "Epoch 4/30, Loss: 2.398650646209717\n",
      "Epoch 5/30, Loss: 2.3203022480010986\n",
      "Epoch 6/30, Loss: 2.273650646209717\n",
      "Epoch 7/30, Loss: 2.4453022480010986\n",
      "Epoch 8/30, Loss: 2.332965850830078\n",
      "Epoch 9/30, Loss: 2.194378614425659\n",
      "Epoch 10/30, Loss: 2.395465612411499\n",
      "Epoch 11/30, Loss: 2.211150646209717\n"
     ]
    }
   ],
   "source": [
    "from torch.optim import Adam\n",
    "model = simpleNN()\n",
    "optimizer = Adam(model.parameters(), lr=0.001)\n",
    "criterion = nn.CrossEntropyLoss()   \n",
    "EPOCHS = 30\n",
    "BATCH_SIZE = 32\n",
    "for epoch in range(EPOCHS):\n",
    "    np.random.shuffle(train_data)\n",
    "    for i in range(0, len(train_data), BATCH_SIZE):\n",
    "        batch = train_data[i:i+BATCH_SIZE]\n",
    "        imgs = np.array([item[0] for item in batch])\n",
    "        labels = np.array([item[1] for item in batch])\n",
    "        imgs = torch.tensor(imgs).float()\n",
    "        labels = torch.tensor(labels).long()\n",
    "        optimizer.zero_grad()\n",
    "        outputs = model(imgs)\n",
    "        loss = criterion(outputs, labels)\n",
    "        loss.backward()\n",
    "        optimizer.step()\n",
    "    print(f'Epoch {epoch+1}/{EPOCHS}, Loss: {loss.item()}')"
   ]
  },
  {
   "cell_type": "code",
   "execution_count": 55,
   "id": "9f0af703",
   "metadata": {},
   "outputs": [
    {
     "name": "stdout",
     "output_type": "stream",
     "text": [
      "Predicted 3\n"
     ]
    },
    {
     "data": {
      "image/png": "[encoded data removed]",
      "text/plain": [
       "<Figure size 640x480 with 1 Axes>"
      ]
     },
     "metadata": {},
     "output_type": "display_data"
    }
   ],
   "source": [
    "model.eval()\n",
    "image_index = 100\n",
    "with torch.no_grad():\n",
    "    output = model.forward(torch.tensor(val_data[image_index][0]).float().unsqueeze(0))\n",
    "    print(f\"Predicted {output.argmax()}\")\n",
    "    # print(f\"Actual {train_data[56][1]}\")\n",
    "    plt.imshow(val_data[image_index][0], cmap='gray')"
   ]
  },
  {
   "cell_type": "code",
   "execution_count": null,
   "id": "21c866e3",
   "metadata": {},
   "outputs": [],
   "source": []
  }
 ],
 "metadata": {
  "kernelspec": {
   "display_name": "mnist",
   "language": "python",
   "name": "python3"
  },
  "language_info": {
   "codemirror_mode": {
    "name": "ipython",
    "version": 3
   },
   "file_extension": ".py",
   "mimetype": "text/x-python",
   "name": "python",
   "nbconvert_exporter": "python",
   "pygments_lexer": "ipython3",
   "version": "3.13.7"
  }
 },
 "nbformat": 4,
 "nbformat_minor": 5
}
